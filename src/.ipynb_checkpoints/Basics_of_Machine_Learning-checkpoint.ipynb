{
 "cells": [
  {
   "cell_type": "markdown",
   "metadata": {},
   "source": [
    "[![Open In Colab](https://colab.research.google.com/assets/colab-badge.svg)](https://colab.research.google.com/github/hustav/Basics_of_ML/blob/main/src/Basics_of_Machine_Learning.ipynb)\n",
    "\n",
    "# Basics of Machine Learning"
   ]
  },
  {
   "cell_type": "code",
   "execution_count": null,
   "metadata": {
    "id": "JrBFA7Ts7OSS"
   },
   "outputs": [],
   "source": [
    "import pandas as pd"
   ]
  },
  {
   "cell_type": "code",
   "execution_count": null,
   "metadata": {},
   "outputs": [],
   "source": [
    "!git clone https://github.com/hustav/Basics_of_ML.git"
   ]
  },
  {
   "cell_type": "code",
   "execution_count": null,
   "metadata": {
    "colab": {
     "base_uri": "https://localhost:8080/",
     "height": 419
    },
    "id": "NnE5Y9-o8j-u",
    "outputId": "7a02eb6b-65a4-4627-b5f1-6e86d8b95e10"
   },
   "outputs": [],
   "source": [
    "iris = pd.read_csv('Basics_of_ML/data/iris.csv')\n",
    "iris"
   ]
  },
  {
   "cell_type": "code",
   "execution_count": null,
   "metadata": {
    "colab": {
     "base_uri": "https://localhost:8080/",
     "height": 300
    },
    "id": "_ownNk2O9LWg",
    "outputId": "1f7beb7b-3d81-43b9-d131-268b085daae6"
   },
   "outputs": [],
   "source": [
    "import seaborn as sns\n",
    "sns.scatterplot(data=iris, x=\"sepal_length\", y=\"sepal_width\", hue=\"class\")"
   ]
  },
  {
   "cell_type": "code",
   "execution_count": null,
   "metadata": {
    "colab": {
     "base_uri": "https://localhost:8080/",
     "height": 297
    },
    "id": "iZRDZQAzBHx9",
    "outputId": "ae5c2659-9b52-4d32-fe31-6078a2170dca"
   },
   "outputs": [],
   "source": [
    "sns.scatterplot(data=iris, x=\"petal_length\", y=\"petal_width\", hue=\"class\")"
   ]
  },
  {
   "cell_type": "code",
   "execution_count": null,
   "metadata": {
    "colab": {
     "base_uri": "https://localhost:8080/"
    },
    "id": "lpVBHc0oBi-a",
    "outputId": "b302e627-4f5b-4eb8-f057-b87491fd2530"
   },
   "outputs": [],
   "source": [
    "X = iris.iloc[:,:-1]\n",
    "Y = iris.iloc[:,-1]\n",
    "\n",
    "Y.head()"
   ]
  },
  {
   "cell_type": "code",
   "execution_count": null,
   "metadata": {
    "colab": {
     "base_uri": "https://localhost:8080/"
    },
    "id": "DuNEA72sDH80",
    "outputId": "98b47047-0b6b-4273-87a9-5884d8c059b6"
   },
   "outputs": [],
   "source": [
    "from sklearn.neighbors import KNeighborsClassifier\n",
    "\n",
    "knn_model = KNeighborsClassifier(n_neighbors=3)\n",
    "knn_model.fit(X, Y)\n",
    "predictions = knn_model.predict([[4.8, 3.1, 1, 0.1]])\n",
    "print(predictions)"
   ]
  },
  {
   "cell_type": "code",
   "execution_count": null,
   "metadata": {
    "colab": {
     "base_uri": "https://localhost:8080/"
    },
    "id": "qM5QhUEfG6Jw",
    "outputId": "14994c4b-9377-416e-dd0d-666f90c2fc7c"
   },
   "outputs": [],
   "source": [
    "from sklearn.model_selection import train_test_split\n",
    "\n",
    "train_X, test_X, train_Y, test_Y = train_test_split(X, Y, test_size = 0.3)\n",
    "\n",
    "knn_model.fit(train_X, train_Y)\n",
    "predictions = knn_model.predict(test_X)\n",
    "print(predictions)"
   ]
  },
  {
   "cell_type": "code",
   "execution_count": null,
   "metadata": {
    "colab": {
     "base_uri": "https://localhost:8080/"
    },
    "id": "9zRo8w3PIM-S",
    "outputId": "3dac7b18-7eef-418f-ebcf-1527df6b0e45"
   },
   "outputs": [],
   "source": [
    "from sklearn.metrics import classification_report\n",
    "from sklearn.metrics import confusion_matrix\n",
    "\n",
    "print(classification_report(test_Y, predictions))\n",
    "print(confusion_matrix(test_Y, predictions))"
   ]
  },
  {
   "cell_type": "code",
   "execution_count": null,
   "metadata": {
    "colab": {
     "base_uri": "https://localhost:8080/"
    },
    "id": "_3DeeBdEIkZQ",
    "outputId": "497335e7-bd08-4328-c123-ad44daef35c9"
   },
   "outputs": [],
   "source": [
    "from sklearn.cluster import KMeans\n",
    "\n",
    "k_means_model = KMeans(n_clusters=3)\n",
    "k_means_model.fit(X)"
   ]
  },
  {
   "cell_type": "code",
   "execution_count": null,
   "metadata": {
    "colab": {
     "base_uri": "https://localhost:8080/"
    },
    "id": "31Ro1yk-J1E8",
    "outputId": "35f7cf55-dbf1-49c4-f630-cd20c19c33a7"
   },
   "outputs": [],
   "source": [
    "k_means_model.labels_"
   ]
  },
  {
   "cell_type": "code",
   "execution_count": null,
   "metadata": {
    "colab": {
     "base_uri": "https://localhost:8080/"
    },
    "id": "PNSQEHa9J5Cu",
    "outputId": "0b873bab-30d1-408c-99b8-64d94b86cd0c"
   },
   "outputs": [],
   "source": [
    "k_means_model.cluster_centers_"
   ]
  },
  {
   "cell_type": "code",
   "execution_count": null,
   "metadata": {
    "colab": {
     "base_uri": "https://localhost:8080/",
     "height": 354
    },
    "id": "67M-FCVqJ_jz",
    "outputId": "19133ba2-7e66-40f7-f4d3-3d1856e30caa"
   },
   "outputs": [],
   "source": [
    "import matplotlib.pyplot as plt\n",
    "\n",
    "fig, (ax1, ax2) = plt.subplots(ncols=2, figsize=(20,5))\n",
    "sns.scatterplot(data=iris, x=\"sepal_length\", y=\"sepal_width\", hue=\"class\", ax=ax1)\n",
    "sns.scatterplot(data=X, x=\"sepal_length\", y=\"sepal_width\", hue=k_means_model.labels_, ax=ax2)"
   ]
  },
  {
   "cell_type": "code",
   "execution_count": null,
   "metadata": {
    "colab": {
     "base_uri": "https://localhost:8080/",
     "height": 352
    },
    "id": "b4_OeIoYMcMB",
    "outputId": "8b745efc-a4c1-4aa8-ba72-d0229e022b9f"
   },
   "outputs": [],
   "source": [
    "fig, (ax1, ax2) = plt.subplots(ncols=2, figsize=(20,5))\n",
    "sns.scatterplot(data=iris, x=\"petal_length\", y=\"petal_width\", hue=\"class\", ax=ax1)\n",
    "sns.scatterplot(data=X, x=\"petal_length\", y=\"petal_width\", hue=k_means_model.labels_, ax=ax2)"
   ]
  },
  {
   "cell_type": "code",
   "execution_count": null,
   "metadata": {
    "colab": {
     "base_uri": "https://localhost:8080/"
    },
    "id": "Kt2eMLV5NSfA",
    "outputId": "a20848be-4b5b-4733-ba9b-82f9345ba610"
   },
   "outputs": [],
   "source": [
    "from sklearn.ensemble import RandomForestClassifier\n",
    "\n",
    "RF_model = RandomForestClassifier()\n",
    "RF_model.fit(train_X, train_Y)\n",
    "predictions = RF_model.predict(test_X)\n",
    "print(classification_report(test_Y, predictions))\n",
    "print(confusion_matrix(test_Y, predictions))"
   ]
  }
 ],
 "metadata": {
  "colab": {
   "collapsed_sections": [],
   "name": "Basics of Machine Learning.ipynb",
   "provenance": []
  },
  "kernelspec": {
   "display_name": "Python 3",
   "language": "python",
   "name": "python3"
  },
  "language_info": {
   "codemirror_mode": {
    "name": "ipython",
    "version": 3
   },
   "file_extension": ".py",
   "mimetype": "text/x-python",
   "name": "python",
   "nbconvert_exporter": "python",
   "pygments_lexer": "ipython3",
   "version": "3.6.12"
  }
 },
 "nbformat": 4,
 "nbformat_minor": 1
}
